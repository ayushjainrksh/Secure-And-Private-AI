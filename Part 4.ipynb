{
 "cells": [
  {
   "cell_type": "code",
   "execution_count": 1,
   "metadata": {},
   "outputs": [],
   "source": [
    "#Classifying Fashion-MNIST dataset\n",
    "#Import the libraries\n",
    "import torch\n",
    "from torch import nn\n",
    "from torchvision import datasets, transforms\n",
    "import numpy as np\n",
    "import matplotlib.pyplot as plt"
   ]
  },
  {
   "cell_type": "code",
   "execution_count": 2,
   "metadata": {},
   "outputs": [],
   "source": [
    "#Import the dataset\n",
    "transform = transforms.Compose([transforms.ToTensor(),\n",
    "                               transforms.Normalize((0.5,),(0.5,))])\n",
    "\n",
    "trainset = datasets.FashionMNIST('~/.pytorch/F_MNIST_data/', train=True, download=True, transform=transform)\n",
    "trainloader = torch.utils.data.DataLoader(trainset, batch_size=64, shuffle=True)\n",
    "\n",
    "testset = datasets.FashionMNIST('~/.pytorch/F_MNIST_data/', train=False, download=True, transform=transform)\n",
    "testloader = torch.utils.data.DataLoader(testset, batch_size=64, shuffle=True)"
   ]
  },
  {
   "cell_type": "code",
   "execution_count": 3,
   "metadata": {},
   "outputs": [
    {
     "data": {
      "text/plain": [
       "torch.Size([64, 1, 28, 28])"
      ]
     },
     "execution_count": 3,
     "metadata": {},
     "output_type": "execute_result"
    }
   ],
   "source": [
    "image, label = next(iter(trainloader))\n",
    "image.shape"
   ]
  },
  {
   "cell_type": "code",
   "execution_count": 4,
   "metadata": {},
   "outputs": [],
   "source": [
    "#Building the network\n",
    "import torch.nn.functional as F\n",
    "class Classifier(nn.Module):\n",
    "    def __init__(self):\n",
    "        super().__init__()\n",
    "        self.fc1 = nn.Linear(784, 256)\n",
    "        self.fc2 = nn.Linear(256, 128)\n",
    "        self.fc3 = nn.Linear(128, 64)\n",
    "        self.fc4 = nn.Linear(64, 10)\n",
    "        \n",
    "    def forward(self, x):\n",
    "        x = x.view(x.shape[0], -1)\n",
    "        \n",
    "        x = F.relu(self.fc1(x))\n",
    "        x = F.relu(self.fc2(x))\n",
    "        x = F.relu(self.fc3(x))\n",
    "        x = F.log_softmax(self.fc4(x), dim=1)\n",
    "        \n",
    "        return x"
   ]
  },
  {
   "cell_type": "code",
   "execution_count": 5,
   "metadata": {},
   "outputs": [
    {
     "name": "stdout",
     "output_type": "stream",
     "text": [
      "Pass  1  ...\n",
      "Loss  0.5192710626354096\n",
      "Pass  2  ...\n",
      "Loss  0.39610210072193575\n",
      "Pass  3  ...\n",
      "Loss  0.35433156731159193\n",
      "Pass  4  ...\n",
      "Loss  0.3350132057534606\n",
      "Pass  5  ...\n",
      "Loss  0.3174164085102869\n"
     ]
    }
   ],
   "source": [
    "#Training the model\n",
    "from torch import optim\n",
    "\n",
    "model = Classifier()\n",
    "criterion = nn.NLLLoss()\n",
    "optimizer = optim.Adam(model.parameters(), lr=0.003)\n",
    "\n",
    "epochs = 5\n",
    "for e in range(epochs):\n",
    "    print(\"Pass \", e+1, \" ...\")\n",
    "    running_loss = 0\n",
    "    for images, labels in trainloader:\n",
    "        optimizer.zero_grad()\n",
    "        \n",
    "        logps = model(images)\n",
    "        loss = criterion(logps, labels)\n",
    "        loss.backward()\n",
    "        optimizer.step()\n",
    "        \n",
    "        running_loss += loss.item()\n",
    "    \n",
    "    else:\n",
    "        print(\"Loss \", running_loss/len(trainloader))"
   ]
  },
  {
   "cell_type": "code",
   "execution_count": 32,
   "metadata": {},
   "outputs": [
    {
     "name": "stdout",
     "output_type": "stream",
     "text": [
      "[tensor(0), tensor(3), tensor(2), tensor(9), tensor(9), tensor(2), tensor(9), tensor(9), tensor(9), tensor(1), tensor(2), tensor(8), tensor(3), tensor(6), tensor(7), tensor(8), tensor(8), tensor(5), tensor(4), tensor(1), tensor(0), tensor(7), tensor(9), tensor(9), tensor(2), tensor(3), tensor(5), tensor(5), tensor(3), tensor(3), tensor(5), tensor(1), tensor(6), tensor(0), tensor(0), tensor(2), tensor(2), tensor(3), tensor(8), tensor(0), tensor(2), tensor(0), tensor(6), tensor(6), tensor(8), tensor(7), tensor(8), tensor(7), tensor(9), tensor(1), tensor(8), tensor(8), tensor(9), tensor(6), tensor(3), tensor(6), tensor(7), tensor(3), tensor(4), tensor(7), tensor(2), tensor(8), tensor(6), tensor(1)]\n",
      "tensor([0, 3, 2, 9, 9, 4, 9, 9, 9, 1, 2, 8, 3, 2, 7, 8, 8, 5, 4, 1, 0, 7, 9, 9,\n",
      "        2, 3, 5, 5, 1, 3, 7, 1, 6, 0, 0, 2, 2, 3, 8, 0, 2, 0, 2, 6, 8, 7, 8, 7,\n",
      "        9, 1, 8, 8, 9, 6, 3, 6, 7, 3, 4, 7, 2, 8, 6, 1])\n"
     ]
    }
   ],
   "source": [
    "#Calculating the test result\n",
    "dataiter = iter(testloader)\n",
    "images, labels = dataiter.next()\n",
    "logps = model(images)\n",
    "ps = torch.exp(logps)\n",
    "results = [y.argmax() for y in ps]\n",
    "print(results)\n",
    "print(labels)"
   ]
  },
  {
   "cell_type": "code",
   "execution_count": null,
   "metadata": {},
   "outputs": [],
   "source": []
  }
 ],
 "metadata": {
  "kernelspec": {
   "display_name": "Python 3",
   "language": "python",
   "name": "python3"
  },
  "language_info": {
   "codemirror_mode": {
    "name": "ipython",
    "version": 3
   },
   "file_extension": ".py",
   "mimetype": "text/x-python",
   "name": "python",
   "nbconvert_exporter": "python",
   "pygments_lexer": "ipython3",
   "version": "3.7.3"
  }
 },
 "nbformat": 4,
 "nbformat_minor": 2
}
